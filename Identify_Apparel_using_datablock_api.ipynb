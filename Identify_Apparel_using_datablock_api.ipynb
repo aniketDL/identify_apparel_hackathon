{
  "nbformat": 4,
  "nbformat_minor": 0,
  "metadata": {
    "colab": {
      "name": "Identify_Apparel_using_datablock api.ipynb",
      "version": "0.3.2",
      "provenance": [],
      "collapsed_sections": [],
      "include_colab_link": true
    },
    "kernelspec": {
      "name": "python3",
      "display_name": "Python 3"
    },
    "accelerator": "GPU"
  },
  "cells": [
    {
      "cell_type": "markdown",
      "metadata": {
        "id": "view-in-github",
        "colab_type": "text"
      },
      "source": [
        "<a href=\"https://colab.research.google.com/github/aniketDL/identify_apparel_hackathon/blob/master/Identify_Apparel_using_datablock_api.ipynb\" target=\"_parent\"><img src=\"https://colab.research.google.com/assets/colab-badge.svg\" alt=\"Open In Colab\"/></a>"
      ]
    },
    {
      "cell_type": "markdown",
      "metadata": {
        "id": "ilRtoCUUFq2X",
        "colab_type": "text"
      },
      "source": [
        "**Took part in the 'Identify The Apparel' hackathon created by Analytics Vidhya(Indian Kaggle). Current position in the leaderboard: 9th out off 236 participants**"
      ]
    },
    {
      "cell_type": "code",
      "metadata": {
        "id": "TO0wn1k3MtJU",
        "colab_type": "code",
        "colab": {}
      },
      "source": [
        "from fastai import *\n",
        "from fastai.vision import *"
      ],
      "execution_count": 0,
      "outputs": []
    },
    {
      "cell_type": "code",
      "metadata": {
        "id": "rDfyoiHCM2f6",
        "colab_type": "code",
        "outputId": "23fe2c1e-7aeb-4a95-f7e2-5ee5110414fd",
        "colab": {
          "base_uri": "https://localhost:8080/",
          "height": 34
        }
      },
      "source": [
        "cd train"
      ],
      "execution_count": 0,
      "outputs": [
        {
          "output_type": "stream",
          "text": [
            "/content/train\n"
          ],
          "name": "stdout"
        }
      ]
    },
    {
      "cell_type": "code",
      "metadata": {
        "id": "bf3StAA9M4k7",
        "colab_type": "code",
        "colab": {}
      },
      "source": [
        "path = Path('/content')"
      ],
      "execution_count": 0,
      "outputs": []
    },
    {
      "cell_type": "code",
      "metadata": {
        "id": "ZcgCcUBeM5WA",
        "colab_type": "code",
        "colab": {}
      },
      "source": [
        "data = ImageList.from_csv(path = path, folder='train', csv_name='train.csv',suffix='.png')"
      ],
      "execution_count": 0,
      "outputs": []
    },
    {
      "cell_type": "code",
      "metadata": {
        "id": "RyfhA--eNElq",
        "colab_type": "code",
        "outputId": "a8496eef-4905-4584-d94e-bb339dcab51e",
        "colab": {
          "base_uri": "https://localhost:8080/",
          "height": 208
        }
      },
      "source": [
        "data "
      ],
      "execution_count": 0,
      "outputs": [
        {
          "output_type": "execute_result",
          "data": {
            "text/plain": [
              "ItemLists;\n",
              "\n",
              "Train: ImageList (48000 items)\n",
              "Image (3, 28, 28),Image (3, 28, 28),Image (3, 28, 28),Image (3, 28, 28),Image (3, 28, 28)\n",
              "Path: /content;\n",
              "\n",
              "Valid: ImageList (12000 items)\n",
              "Image (3, 28, 28),Image (3, 28, 28),Image (3, 28, 28),Image (3, 28, 28),Image (3, 28, 28)\n",
              "Path: /content;\n",
              "\n",
              "Test: None"
            ]
          },
          "metadata": {
            "tags": []
          },
          "execution_count": 18
        }
      ]
    },
    {
      "cell_type": "code",
      "metadata": {
        "id": "a2mZJZa1NUd2",
        "colab_type": "code",
        "colab": {}
      },
      "source": [
        "data = data.label_from_df(cols='label')"
      ],
      "execution_count": 0,
      "outputs": []
    },
    {
      "cell_type": "code",
      "metadata": {
        "id": "3PAvNsVlOU7U",
        "colab_type": "code",
        "outputId": "e068e149-b863-4896-d2a1-296280b75074",
        "colab": {
          "base_uri": "https://localhost:8080/",
          "height": 52
        }
      },
      "source": [
        "data4 = (ImageList.from_csv(path=path, folder='train',csv_name='train.csv',suffix='.png')\n",
        "          .random_split_by_pct()\n",
        "          .label_from_df(cols='label')\n",
        "          .transform(get_transforms(),size = 28)\n",
        "          .databunch()\n",
        "        .normalize(imagenet_stats))"
      ],
      "execution_count": 0,
      "outputs": [
        {
          "output_type": "stream",
          "text": [
            "/usr/local/lib/python3.6/dist-packages/fastai/data_block.py:212: UserWarning: `random_split_by_pct` is deprecated, please use `split_by_rand_pct`.\n",
            "  warn(\"`random_split_by_pct` is deprecated, please use `split_by_rand_pct`.\")\n"
          ],
          "name": "stderr"
        }
      ]
    },
    {
      "cell_type": "code",
      "metadata": {
        "id": "T673_120P0JO",
        "colab_type": "code",
        "outputId": "3162a34b-b02d-418c-c1b7-5ba5f2bb7d5c",
        "colab": {
          "base_uri": "https://localhost:8080/",
          "height": 34
        }
      },
      "source": [
        "data4.c, data4.classes, len(data4.valid_ds), len(data4.train_ds)"
      ],
      "execution_count": 0,
      "outputs": [
        {
          "output_type": "execute_result",
          "data": {
            "text/plain": [
              "(10, [0, 1, 2, 3, 4, 5, 6, 7, 8, 9], 12000, 48000)"
            ]
          },
          "metadata": {
            "tags": []
          },
          "execution_count": 42
        }
      ]
    },
    {
      "cell_type": "code",
      "metadata": {
        "id": "f09OHpHxQAaR",
        "colab_type": "code",
        "colab": {}
      },
      "source": [
        "learn4 = cnn_learner(data4, models.resnet50, metrics = accuracy)"
      ],
      "execution_count": 0,
      "outputs": []
    },
    {
      "cell_type": "code",
      "metadata": {
        "id": "erqaYb_LQNHi",
        "colab_type": "code",
        "outputId": "b805d7c6-c6ea-4402-a3f1-b57a8ce8c75e",
        "colab": {
          "base_uri": "https://localhost:8080/",
          "height": 175
        }
      },
      "source": [
        "learn4.fit_one_cycle(4)"
      ],
      "execution_count": 0,
      "outputs": [
        {
          "output_type": "display_data",
          "data": {
            "text/html": [
              "<table border=\"1\" class=\"dataframe\">\n",
              "  <thead>\n",
              "    <tr style=\"text-align: left;\">\n",
              "      <th>epoch</th>\n",
              "      <th>train_loss</th>\n",
              "      <th>valid_loss</th>\n",
              "      <th>accuracy</th>\n",
              "      <th>time</th>\n",
              "    </tr>\n",
              "  </thead>\n",
              "  <tbody>\n",
              "    <tr>\n",
              "      <td>0</td>\n",
              "      <td>0.866558</td>\n",
              "      <td>0.688517</td>\n",
              "      <td>0.749750</td>\n",
              "      <td>02:03</td>\n",
              "    </tr>\n",
              "    <tr>\n",
              "      <td>1</td>\n",
              "      <td>0.625309</td>\n",
              "      <td>0.510605</td>\n",
              "      <td>0.812667</td>\n",
              "      <td>01:56</td>\n",
              "    </tr>\n",
              "    <tr>\n",
              "      <td>2</td>\n",
              "      <td>0.525095</td>\n",
              "      <td>0.433216</td>\n",
              "      <td>0.839583</td>\n",
              "      <td>01:56</td>\n",
              "    </tr>\n",
              "    <tr>\n",
              "      <td>3</td>\n",
              "      <td>0.509083</td>\n",
              "      <td>0.416887</td>\n",
              "      <td>0.843500</td>\n",
              "      <td>01:56</td>\n",
              "    </tr>\n",
              "  </tbody>\n",
              "</table>"
            ],
            "text/plain": [
              "<IPython.core.display.HTML object>"
            ]
          },
          "metadata": {
            "tags": []
          }
        }
      ]
    },
    {
      "cell_type": "code",
      "metadata": {
        "id": "4BDd3w_eQQd8",
        "colab_type": "code",
        "colab": {}
      },
      "source": [
        "learn4.save('stage-01') # this saves the above model as 'stage-1'"
      ],
      "execution_count": 0,
      "outputs": []
    },
    {
      "cell_type": "code",
      "metadata": {
        "id": "yRh02yo9fXUh",
        "colab_type": "code",
        "colab": {}
      },
      "source": [
        "learn4.unfreeze()"
      ],
      "execution_count": 0,
      "outputs": []
    },
    {
      "cell_type": "code",
      "metadata": {
        "id": "JVHB6MgtfeBP",
        "colab_type": "code",
        "outputId": "3c22969b-476c-4958-ec3d-c02da6735443",
        "colab": {
          "base_uri": "https://localhost:8080/",
          "height": 34
        }
      },
      "source": [
        "learn4.lr_find()\n",
        "laern4."
      ],
      "execution_count": 0,
      "outputs": [
        {
          "output_type": "display_data",
          "data": {
            "text/html": [
              ""
            ],
            "text/plain": [
              "<IPython.core.display.HTML object>"
            ]
          },
          "metadata": {
            "tags": []
          }
        },
        {
          "output_type": "stream",
          "text": [
            "LR Finder is complete, type {learner_name}.recorder.plot() to see the graph.\n"
          ],
          "name": "stdout"
        }
      ]
    },
    {
      "cell_type": "code",
      "metadata": {
        "id": "HeDUtLG5ffcZ",
        "colab_type": "code",
        "outputId": "7af58b14-8527-4662-f300-30500fb09516",
        "colab": {
          "base_uri": "https://localhost:8080/",
          "height": 283
        }
      },
      "source": [
        "learn4.recorder.plot()"
      ],
      "execution_count": 0,
      "outputs": [
        {
          "output_type": "display_data",
          "data": {
            "image/png": "[encoded data removed]",
            "text/plain": [
              "<Figure size 432x288 with 1 Axes>"
            ]
          },
          "metadata": {
            "tags": []
          }
        }
      ]
    },
    {
      "cell_type": "code",
      "metadata": {
        "id": "qzeVm8xrgAUm",
        "colab_type": "code",
        "outputId": "14a07877-4394-42df-aece-e848da8d5725",
        "colab": {
          "base_uri": "https://localhost:8080/",
          "height": 175
        }
      },
      "source": [
        "learn4.fit_one_cycle(4,max_lr=slice(3e-06,5e-04))"
      ],
      "execution_count": 0,
      "outputs": [
        {
          "output_type": "display_data",
          "data": {
            "text/html": [
              "<table border=\"1\" class=\"dataframe\">\n",
              "  <thead>\n",
              "    <tr style=\"text-align: left;\">\n",
              "      <th>epoch</th>\n",
              "      <th>train_loss</th>\n",
              "      <th>valid_loss</th>\n",
              "      <th>accuracy</th>\n",
              "      <th>time</th>\n",
              "    </tr>\n",
              "  </thead>\n",
              "  <tbody>\n",
              "    <tr>\n",
              "      <td>0</td>\n",
              "      <td>0.461489</td>\n",
              "      <td>0.387601</td>\n",
              "      <td>0.855917</td>\n",
              "      <td>02:07</td>\n",
              "    </tr>\n",
              "    <tr>\n",
              "      <td>1</td>\n",
              "      <td>0.376615</td>\n",
              "      <td>0.313388</td>\n",
              "      <td>0.885833</td>\n",
              "      <td>02:08</td>\n",
              "    </tr>\n",
              "    <tr>\n",
              "      <td>2</td>\n",
              "      <td>0.336676</td>\n",
              "      <td>0.284876</td>\n",
              "      <td>0.893167</td>\n",
              "      <td>02:08</td>\n",
              "    </tr>\n",
              "    <tr>\n",
              "      <td>3</td>\n",
              "      <td>0.299240</td>\n",
              "      <td>0.275059</td>\n",
              "      <td>0.898583</td>\n",
              "      <td>02:09</td>\n",
              "    </tr>\n",
              "  </tbody>\n",
              "</table>"
            ],
            "text/plain": [
              "<IPython.core.display.HTML object>"
            ]
          },
          "metadata": {
            "tags": []
          }
        }
      ]
    },
    {
      "cell_type": "code",
      "metadata": {
        "id": "cS7HffvkgQPW",
        "colab_type": "code",
        "outputId": "7ab42c7e-19c6-4327-a7c8-44a495fec009",
        "colab": {
          "base_uri": "https://localhost:8080/",
          "height": 52
        }
      },
      "source": [
        " data5 = (ImageList.from_csv(path=path, folder='train',csv_name='train.csv',suffix='.png')\n",
        "          .random_split_by_pct()\n",
        "          .label_from_df(cols='label')\n",
        "          .transform(get_transforms(),size = 64)\n",
        "          .databunch()\n",
        "        .normalize(imagenet_stats))"
      ],
      "execution_count": 0,
      "outputs": [
        {
          "output_type": "stream",
          "text": [
            "/usr/local/lib/python3.6/dist-packages/fastai/data_block.py:212: UserWarning: `random_split_by_pct` is deprecated, please use `split_by_rand_pct`.\n",
            "  warn(\"`random_split_by_pct` is deprecated, please use `split_by_rand_pct`.\")\n"
          ],
          "name": "stderr"
        }
      ]
    },
    {
      "cell_type": "code",
      "metadata": {
        "id": "JNOS4BjjiPNN",
        "colab_type": "code",
        "colab": {}
      },
      "source": [
        "learn4.data = data5"
      ],
      "execution_count": 0,
      "outputs": []
    },
    {
      "cell_type": "code",
      "metadata": {
        "id": "tBtNetjAiRr7",
        "colab_type": "code",
        "colab": {}
      },
      "source": [
        "learn4.freeze()"
      ],
      "execution_count": 0,
      "outputs": []
    },
    {
      "cell_type": "code",
      "metadata": {
        "id": "K1qgWXpjiZzB",
        "colab_type": "code",
        "outputId": "2797c0b0-5386-4058-f9fd-13654fdaff66",
        "colab": {
          "base_uri": "https://localhost:8080/",
          "height": 34
        }
      },
      "source": [
        "learn4.lr_find()"
      ],
      "execution_count": 0,
      "outputs": [
        {
          "output_type": "display_data",
          "data": {
            "text/html": [
              ""
            ],
            "text/plain": [
              "<IPython.core.display.HTML object>"
            ]
          },
          "metadata": {
            "tags": []
          }
        },
        {
          "output_type": "stream",
          "text": [
            "LR Finder is complete, type {learner_name}.recorder.plot() to see the graph.\n"
          ],
          "name": "stdout"
        }
      ]
    },
    {
      "cell_type": "code",
      "metadata": {
        "id": "rAZQ_oywibPV",
        "colab_type": "code",
        "outputId": "663196c2-00fd-42c4-9cb1-92670ab5098f",
        "colab": {
          "base_uri": "https://localhost:8080/",
          "height": 283
        }
      },
      "source": [
        "learn4.recorder.plot()"
      ],
      "execution_count": 0,
      "outputs": [
        {
          "output_type": "display_data",
          "data": {
            "image/png": "[encoded data removed]",
            "text/plain": [
              "<Figure size 432x288 with 1 Axes>"
            ]
          },
          "metadata": {
            "tags": []
          }
        }
      ]
    },
    {
      "cell_type": "code",
      "metadata": {
        "id": "KoLycXnPirzZ",
        "colab_type": "code",
        "outputId": "46bacb1d-1865-460e-ce7e-bbb85ebabff8",
        "colab": {
          "base_uri": "https://localhost:8080/",
          "height": 175
        }
      },
      "source": [
        "learn4.fit_one_cycle(4,max_lr=slice(1e-02))"
      ],
      "execution_count": 0,
      "outputs": [
        {
          "output_type": "display_data",
          "data": {
            "text/html": [
              "<table border=\"1\" class=\"dataframe\">\n",
              "  <thead>\n",
              "    <tr style=\"text-align: left;\">\n",
              "      <th>epoch</th>\n",
              "      <th>train_loss</th>\n",
              "      <th>valid_loss</th>\n",
              "      <th>accuracy</th>\n",
              "      <th>time</th>\n",
              "    </tr>\n",
              "  </thead>\n",
              "  <tbody>\n",
              "    <tr>\n",
              "      <td>0</td>\n",
              "      <td>0.444553</td>\n",
              "      <td>0.322109</td>\n",
              "      <td>0.884333</td>\n",
              "      <td>02:26</td>\n",
              "    </tr>\n",
              "    <tr>\n",
              "      <td>1</td>\n",
              "      <td>0.339050</td>\n",
              "      <td>0.274324</td>\n",
              "      <td>0.901083</td>\n",
              "      <td>02:23</td>\n",
              "    </tr>\n",
              "    <tr>\n",
              "      <td>2</td>\n",
              "      <td>0.278416</td>\n",
              "      <td>0.212186</td>\n",
              "      <td>0.923000</td>\n",
              "      <td>02:22</td>\n",
              "    </tr>\n",
              "    <tr>\n",
              "      <td>3</td>\n",
              "      <td>0.254314</td>\n",
              "      <td>0.203754</td>\n",
              "      <td>0.926500</td>\n",
              "      <td>02:23</td>\n",
              "    </tr>\n",
              "  </tbody>\n",
              "</table>"
            ],
            "text/plain": [
              "<IPython.core.display.HTML object>"
            ]
          },
          "metadata": {
            "tags": []
          }
        }
      ]
    },
    {
      "cell_type": "code",
      "metadata": {
        "id": "Pzgbevlciyli",
        "colab_type": "code",
        "colab": {}
      },
      "source": [
        "learn4.unfreeze()"
      ],
      "execution_count": 0,
      "outputs": []
    },
    {
      "cell_type": "code",
      "metadata": {
        "id": "G3nMtHqzlNf8",
        "colab_type": "code",
        "outputId": "93333807-b888-46af-a720-3a2ac14929a3",
        "colab": {
          "base_uri": "https://localhost:8080/",
          "height": 34
        }
      },
      "source": [
        "learn4.lr_find()"
      ],
      "execution_count": 0,
      "outputs": [
        {
          "output_type": "display_data",
          "data": {
            "text/html": [
              ""
            ],
            "text/plain": [
              "<IPython.core.display.HTML object>"
            ]
          },
          "metadata": {
            "tags": []
          }
        },
        {
          "output_type": "stream",
          "text": [
            "LR Finder is complete, type {learner_name}.recorder.plot() to see the graph.\n"
          ],
          "name": "stdout"
        }
      ]
    },
    {
      "cell_type": "code",
      "metadata": {
        "id": "JYm52bwAlPII",
        "colab_type": "code",
        "outputId": "f8598fcd-d69c-45e5-87f4-5747f947dd9e",
        "colab": {
          "base_uri": "https://localhost:8080/",
          "height": 283
        }
      },
      "source": [
        "learn4.recorder.plot()"
      ],
      "execution_count": 0,
      "outputs": [
        {
          "output_type": "display_data",
          "data": {
            "image/png": "[encoded data removed]",
            "text/plain": [
              "<Figure size 432x288 with 1 Axes>"
            ]
          },
          "metadata": {
            "tags": []
          }
        }
      ]
    },
    {
      "cell_type": "code",
      "metadata": {
        "id": "CmBnN7V0lYMn",
        "colab_type": "code",
        "outputId": "efbd5f95-d14b-4643-a012-a6caef530164",
        "colab": {
          "base_uri": "https://localhost:8080/",
          "height": 52
        }
      },
      "source": [
        " data6 = (ImageList.from_csv(path=path, folder='train',csv_name='train.csv',suffix='.png')\n",
        "          .random_split_by_pct()\n",
        "          .label_from_df(cols='label')\n",
        "          .transform(get_transforms(),size = 224)\n",
        "          .databunch()\n",
        "        .normalize(imagenet_stats))"
      ],
      "execution_count": 0,
      "outputs": [
        {
          "output_type": "stream",
          "text": [
            "/usr/local/lib/python3.6/dist-packages/fastai/data_block.py:212: UserWarning: `random_split_by_pct` is deprecated, please use `split_by_rand_pct`.\n",
            "  warn(\"`random_split_by_pct` is deprecated, please use `split_by_rand_pct`.\")\n"
          ],
          "name": "stderr"
        }
      ]
    },
    {
      "cell_type": "code",
      "metadata": {
        "id": "9hmRZRsgljzy",
        "colab_type": "code",
        "colab": {}
      },
      "source": [
        "learn4.data = data6"
      ],
      "execution_count": 0,
      "outputs": []
    },
    {
      "cell_type": "code",
      "metadata": {
        "id": "0KfOuMQ7lnk7",
        "colab_type": "code",
        "colab": {}
      },
      "source": [
        "learn4.freeze()"
      ],
      "execution_count": 0,
      "outputs": []
    },
    {
      "cell_type": "code",
      "metadata": {
        "id": "20DWgzHLlpaN",
        "colab_type": "code",
        "outputId": "1cff6912-cffb-4256-96df-fc7ccfc968ca",
        "colab": {
          "base_uri": "https://localhost:8080/",
          "height": 34
        }
      },
      "source": [
        "learn4.lr_find()"
      ],
      "execution_count": 0,
      "outputs": [
        {
          "output_type": "display_data",
          "data": {
            "text/html": [
              ""
            ],
            "text/plain": [
              "<IPython.core.display.HTML object>"
            ]
          },
          "metadata": {
            "tags": []
          }
        },
        {
          "output_type": "stream",
          "text": [
            "LR Finder is complete, type {learner_name}.recorder.plot() to see the graph.\n"
          ],
          "name": "stdout"
        }
      ]
    },
    {
      "cell_type": "code",
      "metadata": {
        "id": "0Mp88QgllrSW",
        "colab_type": "code",
        "outputId": "d31491ef-09c4-4b9a-9fac-34b08ba5857d",
        "colab": {
          "base_uri": "https://localhost:8080/",
          "height": 283
        }
      },
      "source": [
        "learn4.recorder.plot()"
      ],
      "execution_count": 0,
      "outputs": [
        {
          "output_type": "display_data",
          "data": {
            "image/png": "[encoded data removed]",
            "text/plain": [
              "<Figure size 432x288 with 1 Axes>"
            ]
          },
          "metadata": {
            "tags": []
          }
        }
      ]
    },
    {
      "cell_type": "code",
      "metadata": {
        "id": "MEMe71f2mBk6",
        "colab_type": "code",
        "outputId": "d4be8b3a-25ca-4c87-ab01-6e5c17e79ccc",
        "colab": {
          "base_uri": "https://localhost:8080/",
          "height": 175
        }
      },
      "source": [
        "learn4.fit_one_cycle(4,max_lr=slice(7e-03))"
      ],
      "execution_count": 0,
      "outputs": [
        {
          "output_type": "display_data",
          "data": {
            "text/html": [
              "<table border=\"1\" class=\"dataframe\">\n",
              "  <thead>\n",
              "    <tr style=\"text-align: left;\">\n",
              "      <th>epoch</th>\n",
              "      <th>train_loss</th>\n",
              "      <th>valid_loss</th>\n",
              "      <th>accuracy</th>\n",
              "      <th>time</th>\n",
              "    </tr>\n",
              "  </thead>\n",
              "  <tbody>\n",
              "    <tr>\n",
              "      <td>0</td>\n",
              "      <td>0.380533</td>\n",
              "      <td>0.297099</td>\n",
              "      <td>0.889167</td>\n",
              "      <td>13:11</td>\n",
              "    </tr>\n",
              "    <tr>\n",
              "      <td>1</td>\n",
              "      <td>0.299561</td>\n",
              "      <td>0.230166</td>\n",
              "      <td>0.914583</td>\n",
              "      <td>13:12</td>\n",
              "    </tr>\n",
              "    <tr>\n",
              "      <td>2</td>\n",
              "      <td>0.253457</td>\n",
              "      <td>0.194915</td>\n",
              "      <td>0.927583</td>\n",
              "      <td>13:13</td>\n",
              "    </tr>\n",
              "    <tr>\n",
              "      <td>3</td>\n",
              "      <td>0.214627</td>\n",
              "      <td>0.187159</td>\n",
              "      <td>0.932583</td>\n",
              "      <td>13:12</td>\n",
              "    </tr>\n",
              "  </tbody>\n",
              "</table>"
            ],
            "text/plain": [
              "<IPython.core.display.HTML object>"
            ]
          },
          "metadata": {
            "tags": []
          }
        }
      ]
    },
    {
      "cell_type": "code",
      "metadata": {
        "id": "Mp24sKq6mPSY",
        "colab_type": "code",
        "colab": {}
      },
      "source": [
        "learn4.unfreeze()"
      ],
      "execution_count": 0,
      "outputs": []
    },
    {
      "cell_type": "code",
      "metadata": {
        "id": "Pbq145hvyWKH",
        "colab_type": "code",
        "outputId": "8baf2866-aea3-4ad7-d526-72cf77a634b4",
        "colab": {
          "base_uri": "https://localhost:8080/",
          "height": 34
        }
      },
      "source": [
        "learn4.lr_find()"
      ],
      "execution_count": 0,
      "outputs": [
        {
          "output_type": "display_data",
          "data": {
            "text/html": [
              ""
            ],
            "text/plain": [
              "<IPython.core.display.HTML object>"
            ]
          },
          "metadata": {
            "tags": []
          }
        },
        {
          "output_type": "stream",
          "text": [
            "LR Finder is complete, type {learner_name}.recorder.plot() to see the graph.\n"
          ],
          "name": "stdout"
        }
      ]
    },
    {
      "cell_type": "code",
      "metadata": {
        "id": "xhRqA2j9yY6w",
        "colab_type": "code",
        "outputId": "d3131ae7-a64a-4842-d988-42d0c69ac131",
        "colab": {
          "base_uri": "https://localhost:8080/",
          "height": 283
        }
      },
      "source": [
        "learn4.recorder.plot()"
      ],
      "execution_count": 0,
      "outputs": [
        {
          "output_type": "display_data",
          "data": {
            "image/png": "[encoded data removed]",
            "text/plain": [
              "<Figure size 432x288 with 1 Axes>"
            ]
          },
          "metadata": {
            "tags": []
          }
        }
      ]
    },
    {
      "cell_type": "code",
      "metadata": {
        "id": "D1wcYwGNywS9",
        "colab_type": "code",
        "outputId": "a6834f9c-6652-44f3-e3fc-846793fb8598",
        "colab": {
          "base_uri": "https://localhost:8080/",
          "height": 175
        }
      },
      "source": [
        "learn4.fit_one_cycle(4,max_lr=slice(2e-05,1e-04))"
      ],
      "execution_count": 0,
      "outputs": [
        {
          "output_type": "display_data",
          "data": {
            "text/html": [
              "<table border=\"1\" class=\"dataframe\">\n",
              "  <thead>\n",
              "    <tr style=\"text-align: left;\">\n",
              "      <th>epoch</th>\n",
              "      <th>train_loss</th>\n",
              "      <th>valid_loss</th>\n",
              "      <th>accuracy</th>\n",
              "      <th>time</th>\n",
              "    </tr>\n",
              "  </thead>\n",
              "  <tbody>\n",
              "    <tr>\n",
              "      <td>0</td>\n",
              "      <td>0.244553</td>\n",
              "      <td>0.216956</td>\n",
              "      <td>0.918250</td>\n",
              "      <td>17:22</td>\n",
              "    </tr>\n",
              "    <tr>\n",
              "      <td>1</td>\n",
              "      <td>0.198433</td>\n",
              "      <td>0.179666</td>\n",
              "      <td>0.933583</td>\n",
              "      <td>17:22</td>\n",
              "    </tr>\n",
              "    <tr>\n",
              "      <td>2</td>\n",
              "      <td>0.156565</td>\n",
              "      <td>0.148846</td>\n",
              "      <td>0.944333</td>\n",
              "      <td>17:22</td>\n",
              "    </tr>\n",
              "    <tr>\n",
              "      <td>3</td>\n",
              "      <td>0.132461</td>\n",
              "      <td>0.139898</td>\n",
              "      <td>0.948833</td>\n",
              "      <td>17:21</td>\n",
              "    </tr>\n",
              "  </tbody>\n",
              "</table>"
            ],
            "text/plain": [
              "<IPython.core.display.HTML object>"
            ]
          },
          "metadata": {
            "tags": []
          }
        }
      ]
    },
    {
      "cell_type": "code",
      "metadata": {
        "id": "uthhxp7By_zC",
        "colab_type": "code",
        "colab": {}
      },
      "source": [
        "learn4.save('final-model')"
      ],
      "execution_count": 0,
      "outputs": []
    },
    {
      "cell_type": "code",
      "metadata": {
        "id": "-Tza2CS_DL05",
        "colab_type": "code",
        "colab": {}
      },
      "source": [
        "test_images = ImageList.from_csv(path = path, folder='test', csv_name = 'test.csv', suffix='.png')"
      ],
      "execution_count": 0,
      "outputs": []
    },
    {
      "cell_type": "code",
      "metadata": {
        "id": "HPsnqF5oDx72",
        "colab_type": "code",
        "colab": {}
      },
      "source": [
        "data6.add_test(test_images)"
      ],
      "execution_count": 0,
      "outputs": []
    },
    {
      "cell_type": "code",
      "metadata": {
        "id": "VTpJd5YpDV-c",
        "colab_type": "code",
        "colab": {}
      },
      "source": [
        "preds, _ = learn4.get_preds(ds_type = DatasetType.Test)"
      ],
      "execution_count": 0,
      "outputs": []
    },
    {
      "cell_type": "code",
      "metadata": {
        "id": "HmBxFJH3E1ZI",
        "colab_type": "code",
        "colab": {}
      },
      "source": [
        "preds, targets = learn4.get_preds(DatasetType.Test)\n"
      ],
      "execution_count": 0,
      "outputs": []
    },
    {
      "cell_type": "code",
      "metadata": {
        "id": "bNY6LJstHMm7",
        "colab_type": "code",
        "colab": {}
      },
      "source": [
        "labels = [np.argmax(p).data.item() for p in preds]"
      ],
      "execution_count": 0,
      "outputs": []
    },
    {
      "cell_type": "code",
      "metadata": {
        "id": "DqqbKB_fIccu",
        "colab_type": "code",
        "outputId": "6eefde89-2437-44d8-833e-66f97aa87a5e",
        "colab": {
          "base_uri": "https://localhost:8080/",
          "height": 34
        }
      },
      "source": [
        "labels[:10]"
      ],
      "execution_count": 0,
      "outputs": [
        {
          "output_type": "execute_result",
          "data": {
            "text/plain": [
              "[9, 2, 1, 1, 6, 1, 4, 6, 5, 7]"
            ]
          },
          "metadata": {
            "tags": []
          },
          "execution_count": 125
        }
      ]
    },
    {
      "cell_type": "code",
      "metadata": {
        "id": "20thiDIIIqyk",
        "colab_type": "code",
        "colab": {}
      },
      "source": [
        "sub_df['label'] = labels[:]"
      ],
      "execution_count": 0,
      "outputs": []
    },
    {
      "cell_type": "code",
      "metadata": {
        "id": "Vx1ur2GcJiKY",
        "colab_type": "code",
        "colab": {}
      },
      "source": [
        "sub_df.to_csv('submission_aniket.csv', index=False)"
      ],
      "execution_count": 0,
      "outputs": []
    },
    {
      "cell_type": "code",
      "metadata": {
        "id": "NmSAmRa4J5Qx",
        "colab_type": "code",
        "colab": {}
      },
      "source": [
        ""
      ],
      "execution_count": 0,
      "outputs": []
    }
  ]
}